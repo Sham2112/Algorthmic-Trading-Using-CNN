{
 "cells": [
  {
   "cell_type": "code",
   "execution_count": 35,
   "metadata": {},
   "outputs": [],
   "source": [
    "import pandas as pd\n",
    "import numpy as np\n",
    "from pandas import DataFrame # specify datatype while passing df object\\"
   ]
  },
  {
   "cell_type": "code",
   "execution_count": 36,
   "metadata": {},
   "outputs": [],
   "source": [
    "#df = pd.read_csv('WMT.csv')#Uncomment this and read the WMT csv file wherever its stored on your local device"
   ]
  },
  {
   "cell_type": "code",
   "execution_count": 39,
   "metadata": {},
   "outputs": [
    {
     "output_type": "error",
     "ename": "IndentationError",
     "evalue": "expected an indented block (<ipython-input-39-2e1955fcb271>, line 5)",
     "traceback": [
      "\u001b[0;36m  File \u001b[0;32m\"<ipython-input-39-2e1955fcb271>\"\u001b[0;36m, line \u001b[0;32m5\u001b[0m\n\u001b[0;31m    def cmo():\u001b[0m\n\u001b[0m      ^\u001b[0m\n\u001b[0;31mIndentationError\u001b[0m\u001b[0;31m:\u001b[0m expected an indented block\n"
     ]
    }
   ],
   "source": [
    "#This is where you will code up the technical indicators and add as columns in the original dataframe\n",
    "\n",
    "def rsi(): #code rsi 6 to 25\n",
    "    \n",
    "def cmo():\n",
    "    \n",
    "def williams(df):\n",
    "   for period in range(6,21):\n",
    "     lowest_low=pd.Series(df[\"Low\"].rolling(window = period).min())\n",
    "     highest_high=pd.Series(df[\"High\"].rolling(window = period).max())  \n",
    "     df[f'Williams_{period}']=pd.Series(((highest_high-df['Close'])/(highest_high-lowest_low))*-100)\n",
    "   return df\n",
    "    \n",
    "def sma(df: DataFrame):\n",
    "    '''\n",
    "    SMA: Simple Moving Average; computes the average of a selected\n",
    "    range of prices, over periods 6 through 30(both inclusive).\n",
    "    \n",
    "    Arguement: \n",
    "        df: DataFrame object initialised from the csv data\n",
    "    Returns:\n",
    "        df: Modified DataFrame object\n",
    "    '''\n",
    "    \n",
    "    for period in range(6, 31):\n",
    "        col_name = f'sma_{period}'\n",
    "        df[col_name] = df[\"Adj Close\"].rolling(window=period).mean()\n",
    "    \n",
    "    return df \n",
    "    \n",
    "def wma(df: DataFrame):\n",
    "    '''\n",
    "    WMA: Weighted Moving Average; places a greater weight on the more recent\n",
    "    datapoints. Calculated over periods 6 through 20(both inclusive).\n",
    "    \n",
    "    Arguement: \n",
    "        df: DataFrame object initialised from the csv data\n",
    "    Returns:\n",
    "        df: Modified DataFrame object\n",
    "    '''\n",
    "    for period in range(6, 21):\n",
    "        col_name = f'wma_{period}'\n",
    "        weights = np.arange(1, period+1)\n",
    "        denominator = np.sum(weights)\n",
    "\n",
    "        df[col_name] = df[\"Adj Close\"].rolling(window=period).apply(\n",
    "                        lambda x: np.sum(weights*x)/denominator)\n",
    "    \n",
    "    return df\n",
    "    \n",
    "def ppo():\n",
    "        \n",
    "    \n",
    "def ema(df: DataFrame):\n",
    "    '''\n",
    "    EMA: Exponential Moving Average; similar to WMA, it places a greater weight on the recent\n",
    "    datapoints and hence reacts more significantly to price changes than SMA.\n",
    "    Calculated over periods 6 through 20(both inclusive).\n",
    "    \n",
    "    Arguement: \n",
    "        df: DataFrame object initialised from the csv data\n",
    "    Returns:\n",
    "        df: Modified DataFrame object\n",
    "    '''\n",
    "    for period in range(6, 21):\n",
    "        col_name = f'ema_{period}'\n",
    "        df[col_name] = df[\"Adj Close\"].ewm(span=period, adjust=True).mean()\n",
    "\n",
    "    return df\n",
    "    \n",
    "def roc():\n",
    "    \n",
    "def cmfi():\n",
    "\n",
    "def hma(df):\n",
    "    '''\n",
    "    HMA: Hull Moving Average is a much faster and smoother moving average.\n",
    "    Computed over periods 6 to 20 (both inclusive)\n",
    "    \n",
    "    Arguement: \n",
    "        df: DataFrame object initialised from the csv data\n",
    "    Returns:\n",
    "        df: Modified DataFrame object\n",
    "    '''\n",
    "\n",
    "    for len in range(6,21):\n",
    "        col_name = f'hma_{len}'\n",
    "        half_len = len//2\n",
    "        k = int(np.sqrt(len))\n",
    "\n",
    "        half_weights = np.arange(1, half_len+1)\n",
    "        weights = np.arange(1, len+1)\n",
    "        \n",
    "        half_wma = df['Adj Close'].rolling(half_len).apply(lambda x: np.dot(x, half_weights)/half_weights.sum(), raw=True)\n",
    "        full_wma = df['Adj Close'].rolling(len).apply(lambda x: np.dot(x, weights)/weights.sum(), raw=True)\n",
    "\n",
    "        diff = (2*half_wma) - full_wma\n",
    "\n",
    "        w = np.arange(1, k+1)\n",
    "        df[col_name] = diff.rolling(k).apply(lambda x: np.dot(x, w)/w.sum(), raw=True)\n",
    "\n",
    "    return df\n",
    "    \n",
    "def dmi():\n",
    "    \n",
    "def tripleema():\n",
    "    \n",
    "def psi():\n",
    "    \n",
    "def cci(df): \n",
    "    TP = (df['High'] + df['Low'] + df['Close']) / 3 \n",
    "    for period in range(6,21):\n",
    "      df[f'cci_{period}']= pd.Series((TP - TP.rolling(window = period).mean()) / (0.015 * TP.rolling(window = period).std()))\n",
    "    return df\n",
    "\n",
    "    \n"
   ]
  },
  {
   "cell_type": "code",
   "execution_count": 40,
   "metadata": {},
   "outputs": [
    {
     "output_type": "error",
     "ename": "SyntaxError",
     "evalue": "unexpected EOF while parsing (<ipython-input-40-c7c1a64e3c53>, line 1)",
     "traceback": [
      "\u001b[0;36m  File \u001b[0;32m\"<ipython-input-40-c7c1a64e3c53>\"\u001b[0;36m, line \u001b[0;32m1\u001b[0m\n\u001b[0;31m    def label_data():\u001b[0m\n\u001b[0m                     ^\u001b[0m\n\u001b[0;31mSyntaxError\u001b[0m\u001b[0;31m:\u001b[0m unexpected EOF while parsing\n"
     ]
    }
   ],
   "source": [
    "def label_data():"
   ]
  },
  {
   "cell_type": "code",
   "execution_count": null,
   "metadata": {},
   "outputs": [],
   "source": []
  }
 ],
 "metadata": {
  "kernelspec": {
   "display_name": "Python 3",
   "language": "python",
   "name": "python3"
  },
  "language_info": {
   "codemirror_mode": {
    "name": "ipython",
    "version": 3
   },
   "file_extension": ".py",
   "mimetype": "text/x-python",
   "name": "python",
   "nbconvert_exporter": "python",
   "pygments_lexer": "ipython3",
   "version": "3.6.9-final"
  }
 },
 "nbformat": 4,
 "nbformat_minor": 4
}